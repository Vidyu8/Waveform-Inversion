{
  "nbformat": 4,
  "nbformat_minor": 0,
  "metadata": {
    "colab": {
      "provenance": []
    },
    "kernelspec": {
      "name": "python3",
      "display_name": "Python 3"
    },
    "language_info": {
      "name": "python"
    }
  },
  "cells": [
    {
      "cell_type": "code",
      "execution_count": null,
      "metadata": {
        "colab": {
          "base_uri": "https://localhost:8080/"
        },
        "id": "V7GvEWn42au5",
        "outputId": "77ee3015-2190-493c-ec2e-8b35d6113625"
      },
      "outputs": [
        {
          "output_type": "stream",
          "name": "stdout",
          "text": [
            "Using device: cpu\n",
            "FWINet(\n",
            "  (seismic_net): Sequential(\n",
            "    (0): Conv1d(32, 64, kernel_size=(3,), stride=(1,), padding=(1,))\n",
            "    (1): ReLU()\n",
            "    (2): MaxPool1d(kernel_size=2, stride=2, padding=0, dilation=1, ceil_mode=False)\n",
            "    (3): Conv1d(64, 128, kernel_size=(3,), stride=(1,), padding=(1,))\n",
            "    (4): ReLU()\n",
            "    (5): MaxPool1d(kernel_size=2, stride=2, padding=0, dilation=1, ceil_mode=False)\n",
            "    (6): Conv1d(128, 256, kernel_size=(3,), stride=(1,), padding=(1,))\n",
            "    (7): ReLU()\n",
            "    (8): MaxPool1d(kernel_size=2, stride=2, padding=0, dilation=1, ceil_mode=False)\n",
            "    (9): Flatten(start_dim=1, end_dim=-1)\n",
            "  )\n",
            "  (velocity_net): Sequential(\n",
            "    (0): Linear(in_features=4096, out_features=1024, bias=True)\n",
            "    (1): ReLU()\n",
            "    (2): Linear(in_features=1024, out_features=16384, bias=True)\n",
            "    (3): Unflatten(dim=1, unflattened_size=(1, 128, 128))\n",
            "  )\n",
            ")\n"
          ]
        },
        {
          "output_type": "stream",
          "name": "stderr",
          "text": [
            "Epoch 1/5: 100%|██████████| 7/7 [00:03<00:00,  2.15it/s]\n"
          ]
        },
        {
          "output_type": "stream",
          "name": "stdout",
          "text": [
            "Epoch [1/5], Loss: 3.3728\n"
          ]
        },
        {
          "output_type": "stream",
          "name": "stderr",
          "text": [
            "Epoch 2/5: 100%|██████████| 7/7 [00:09<00:00,  1.34s/it]\n"
          ]
        },
        {
          "output_type": "stream",
          "name": "stdout",
          "text": [
            "Epoch [2/5], Loss: 1.0910\n"
          ]
        },
        {
          "output_type": "stream",
          "name": "stderr",
          "text": [
            "Epoch 3/5: 100%|██████████| 7/7 [00:06<00:00,  1.12it/s]\n"
          ]
        },
        {
          "output_type": "stream",
          "name": "stdout",
          "text": [
            "Epoch [3/5], Loss: 0.5562\n"
          ]
        },
        {
          "output_type": "stream",
          "name": "stderr",
          "text": [
            "Epoch 4/5: 100%|██████████| 7/7 [00:03<00:00,  2.32it/s]\n"
          ]
        },
        {
          "output_type": "stream",
          "name": "stdout",
          "text": [
            "Epoch [4/5], Loss: 0.4735\n"
          ]
        },
        {
          "output_type": "stream",
          "name": "stderr",
          "text": [
            "Epoch 5/5:  71%|███████▏  | 5/7 [00:02<00:01,  1.71it/s]"
          ]
        }
      ],
      "source": [
        "# Fixed Full Waveform Inversion (FWI) - Competition Starter Code\n",
        "# Updated with working architecture\n",
        "\n",
        "import numpy as np\n",
        "import matplotlib.pyplot as plt\n",
        "import torch\n",
        "import torch.nn as nn\n",
        "from torch.utils.data import Dataset, DataLoader\n",
        "from tqdm import tqdm\n",
        "\n",
        "# Set random seed for reproducibility\n",
        "torch.manual_seed(42)\n",
        "np.random.seed(42)\n",
        "\n",
        "# Check if GPU is available\n",
        "device = torch.device(\"cuda\" if torch.cuda.is_available() else \"cpu\")\n",
        "print(f\"Using device: {device}\")\n",
        "\n",
        "# --------------------------\n",
        "# 1. Data Loading Utilities\n",
        "# --------------------------\n",
        "\n",
        "class FWIDataset(Dataset):\n",
        "    \"\"\"Custom Dataset for loading seismic data and velocity models\"\"\"\n",
        "    def __init__(self, num_samples=100):\n",
        "        \"\"\"\n",
        "        Args:\n",
        "            num_samples (int): Number of synthetic samples to generate\n",
        "        \"\"\"\n",
        "        self.num_samples = num_samples\n",
        "\n",
        "    def __len__(self):\n",
        "        return self.num_samples\n",
        "\n",
        "    def __getitem__(self, idx):\n",
        "        # Generate more realistic synthetic data\n",
        "        velocity_model = np.random.rand(128, 128).astype(np.float32) * 2.0 + 1.5  # Velocity typically 1.5-3.5 km/s\n",
        "        seismic_data = np.random.rand(32, 128).astype(np.float32) * 2.0 - 1.0    # Seismic traces with positive/negative values\n",
        "\n",
        "        # Convert to PyTorch tensors\n",
        "        seismic_tensor = torch.from_numpy(seismic_data)\n",
        "        velocity_tensor = torch.from_numpy(velocity_model)\n",
        "\n",
        "        return seismic_tensor, velocity_tensor\n",
        "\n",
        "# --------------------------\n",
        "# 2. Fixed Neural Network Model\n",
        "# --------------------------\n",
        "\n",
        "class FWINet(nn.Module):\n",
        "    \"\"\"Improved CNN for Full Waveform Inversion with proper dimensionality handling\"\"\"\n",
        "    def __init__(self):\n",
        "        super(FWINet, self).__init__()\n",
        "\n",
        "        # Seismic data processing (1D convolutions)\n",
        "        self.seismic_net = nn.Sequential(\n",
        "            nn.Conv1d(32, 64, kernel_size=3, padding=1),\n",
        "            nn.ReLU(),\n",
        "            nn.MaxPool1d(2),\n",
        "            nn.Conv1d(64, 128, kernel_size=3, padding=1),\n",
        "            nn.ReLU(),\n",
        "            nn.MaxPool1d(2),\n",
        "            nn.Conv1d(128, 256, kernel_size=3, padding=1),\n",
        "            nn.ReLU(),\n",
        "            nn.MaxPool1d(2),\n",
        "            nn.Flatten()\n",
        "        )\n",
        "\n",
        "        # Velocity model generation (2D convolutions)\n",
        "        self.velocity_net = nn.Sequential(\n",
        "            nn.Linear(256*16, 1024),  # Adjust based on flattened size\n",
        "            nn.ReLU(),\n",
        "            nn.Linear(1024, 128*128),  # Output size matches velocity model\n",
        "            nn.Unflatten(1, (1, 128, 128))  # Reshape to velocity model dimensions\n",
        "        )\n",
        "\n",
        "    def forward(self, x):\n",
        "        # x shape: (batch_size, 32, 128)\n",
        "        x = self.seismic_net(x)\n",
        "        x = self.velocity_net(x)\n",
        "        return x\n",
        "\n",
        "# --------------------------\n",
        "# 3. Training Loop\n",
        "# --------------------------\n",
        "\n",
        "def train_model(model, dataloader, criterion, optimizer, num_epochs=10):\n",
        "    model.train()\n",
        "    losses = []\n",
        "\n",
        "    for epoch in range(num_epochs):\n",
        "        epoch_loss = 0.0\n",
        "\n",
        "        for seismic, velocity in tqdm(dataloader, desc=f\"Epoch {epoch+1}/{num_epochs}\"):\n",
        "            seismic = seismic.to(device)\n",
        "            velocity = velocity.to(device)\n",
        "\n",
        "            # Forward pass\n",
        "            outputs = model(seismic)\n",
        "            loss = criterion(outputs, velocity.unsqueeze(1))\n",
        "\n",
        "            # Backward pass and optimize\n",
        "            optimizer.zero_grad()\n",
        "            loss.backward()\n",
        "            optimizer.step()\n",
        "\n",
        "            epoch_loss += loss.item()\n",
        "\n",
        "        avg_loss = epoch_loss / len(dataloader)\n",
        "        losses.append(avg_loss)\n",
        "        print(f\"Epoch [{epoch+1}/{num_epochs}], Loss: {avg_loss:.4f}\")\n",
        "\n",
        "    return losses\n",
        "\n",
        "# --------------------------\n",
        "# 4. Main Execution\n",
        "# --------------------------\n",
        "\n",
        "def main():\n",
        "    # Create synthetic dataset\n",
        "    dataset = FWIDataset(num_samples=100)\n",
        "    dataloader = DataLoader(dataset, batch_size=16, shuffle=True)\n",
        "\n",
        "    # Initialize model, loss, and optimizer\n",
        "    model = FWINet().to(device)\n",
        "    criterion = nn.MSELoss()\n",
        "    optimizer = torch.optim.Adam(model.parameters(), lr=0.001)\n",
        "\n",
        "    # Print model summary\n",
        "    print(model)\n",
        "\n",
        "    # Train the model\n",
        "    losses = train_model(model, dataloader, criterion, optimizer, num_epochs=5)\n",
        "\n",
        "    # Plot training loss\n",
        "    plt.figure(figsize=(10, 5))\n",
        "    plt.plot(losses)\n",
        "    plt.title(\"Training Loss\")\n",
        "    plt.xlabel(\"Epoch\")\n",
        "    plt.ylabel(\"MSE Loss\")\n",
        "    plt.grid(True)\n",
        "    plt.show()\n",
        "\n",
        "    # Save model\n",
        "    torch.save(model.state_dict(), \"fwi_model.pth\")\n",
        "    print(\"Model saved to fwi_model.pth\")\n",
        "\n",
        "if __name__ == \"__main__\":\n",
        "    main()"
      ]
    }
  ]
}